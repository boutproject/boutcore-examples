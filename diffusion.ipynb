{
 "cells": [
  {
   "cell_type": "markdown",
   "metadata": {},
   "source": [
    "# 1D diffusion simulation\n",
    "\n",
    "**See [https://github.com/boutproject/boutcore-examples](https://github.com/boutproject/boutcore-examples) for links to the interactive version.**"
   ]
  },
  {
   "cell_type": "markdown",
   "metadata": {},
   "source": [
    "## Import boutcore"
   ]
  },
  {
   "cell_type": "code",
   "execution_count": null,
   "metadata": {},
   "outputs": [],
   "source": [
    "import boutcore as bc\n",
    "# This might fail if boutcore is not installed, or not in \n",
    "# your PYTHONPATH. This can happen if the mpi module it has\n",
    "# been installed for is not loaded.\n",
    "from numpy import sqrt, sin\n",
    "from boutcore import DDX, D2DX2, PhysicsModel"
   ]
  },
  {
   "cell_type": "markdown",
   "metadata": {},
   "source": [
    "## Define a simple model"
   ]
  },
  {
   "cell_type": "code",
   "execution_count": null,
   "metadata": {},
   "outputs": [],
   "source": [
    "class Diffusion(PhysicsModel):\n",
    "    def init(self, restart):\n",
    "        self.mesh = bc.Mesh.getGlobal()\n",
    "        self.n = bc.Field3D.fromMesh(self.mesh)\n",
    "\n",
    "        self.solve_for(n=self.n)\n",
    "        self.source = bc.create3D(\"exp(-(x-0.5)^2/4)\")\n",
    "        self.D = 0.01\n",
    "\n",
    "    def rhs(self, time):\n",
    "        # Run communications\n",
    "        self.mesh.communicate(self.n)\n",
    "        \n",
    "        # Set the time derivative by adding/... to it\n",
    "        # make sure to never overwrite it\n",
    "        # ddt_n = bla does NOT set the time derivative\n",
    "        # Waiting for https://github.com/dschwoerer/BOUT-dev/issues/40\n",
    "        ddt_n = self.n.ddt()\n",
    "        ddt_n.set(0)\n",
    "        ddt_n += self.D * D2DX2(self.n)\n",
    "        # Add some perturbation\n",
    "        ddt_n += self.source * sin(time)\n"
   ]
  },
  {
   "cell_type": "markdown",
   "metadata": {},
   "source": [
    "## Run the simulation"
   ]
  },
  {
   "cell_type": "code",
   "execution_count": null,
   "metadata": {},
   "outputs": [],
   "source": [
    "# NB: We need to restart the kernel to restart BOUT++ / switch folder\n",
    "bc.init(\"-d diffusion\")"
   ]
  },
  {
   "cell_type": "code",
   "execution_count": null,
   "metadata": {},
   "outputs": [],
   "source": [
    "diffusion = Diffusion()\n",
    "print(\"Starting the simulation\")\n",
    "# Sorry, for now no output\n",
    "# https://github.com/boutproject/BOUT-dev/issues/2354\n",
    "diffusion.solve()\n",
    "print(\"The simulation is finished\")"
   ]
  },
  {
   "cell_type": "markdown",
   "metadata": {},
   "source": [
    "## Do the post processing"
   ]
  },
  {
   "cell_type": "code",
   "execution_count": null,
   "metadata": {
    "scrolled": true
   },
   "outputs": [],
   "source": [
    "import xbout\n",
    "data = xbout.open_boutdataset(\n",
    "    datapath=\"diffusion/BOUT.dmp.*.nc\",\n",
    "    inputfilepath=\"diffusion/BOUT.inp\",\n",
    "    info=False,\n",
    ").squeeze(drop=True)"
   ]
  },
  {
   "cell_type": "code",
   "execution_count": null,
   "metadata": {},
   "outputs": [],
   "source": [
    "data"
   ]
  },
  {
   "cell_type": "code",
   "execution_count": null,
   "metadata": {},
   "outputs": [],
   "source": [
    "data.n.plot()"
   ]
  }
 ],
 "metadata": {
  "kernelspec": {
   "display_name": "Python 3",
   "language": "python",
   "name": "python3"
  },
  "language_info": {
   "codemirror_mode": {
    "name": "ipython",
    "version": 3
   },
   "file_extension": ".py",
   "mimetype": "text/x-python",
   "name": "python",
   "nbconvert_exporter": "python",
   "pygments_lexer": "ipython3",
   "version": "3.9.7"
  }
 },
 "nbformat": 4,
 "nbformat_minor": 4
}
